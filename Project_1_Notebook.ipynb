{
 "cells": [
  {
   "cell_type": "markdown",
   "metadata": {},
   "source": [
    "# ENDG 310 Project #1\n",
    "\n",
    "## Loading and Visualizing Data\n",
    " \n",
    "Below is my code for loading arranging my data in a format that will be easy for me to work with. I have downloaded several sets of data, the first is daily data from Canada Border Services Agency (CBSA) which lists how many people have entered the coutry every day for the past five year (2018-2023). The next sets of data are all data on yearly wages, one for each year from 2018-2022. I will load the Canada Border Services code and read it, and I will combine the five csv file for wages into one dataframe."
   ]
  },
  {
   "cell_type": "code",
   "execution_count": null,
   "metadata": {},
   "outputs": [],
   "source": [
    "import sys\n",
    "sys.path.append('c:\\\\Users\\\\Isabel Conklin\\\\Documents\\\\ENDG 310\\\\Github23-24\\\\ENDG310-Project-1-F2023\\\\Functions')\n"
   ]
  },
  {
   "cell_type": "markdown",
   "metadata": {},
   "source": [
    "### CBSA Data\n",
    "\n",
    "Here I am organizing the CBSA data into dictionaries with the year as the key and an array as the value, it is editable so I can have however many columns in the array as I would like. I am also making a separate dictionary with seasons as the key and an array as the value, once again it is easily editable."
   ]
  },
  {
   "cell_type": "code",
   "execution_count": 2,
   "metadata": {},
   "outputs": [],
   "source": [
    "# CBSA data\n",
    "import pandas as pd\n",
    "from Functions.year_arrays import make_year_arrays\n",
    "from Functions.seasons_sort import seasons_sort\n",
    "\n",
    "\n",
    "# Load CBSA data\n",
    "cbsa = pd.read_csv('Data/traveller_report.csv', encoding= 'ISO-8859-1')\n",
    "\n",
    "# Sort into arrays for each year using make_year_arrays function\n",
    "data_by_year = make_year_arrays('Data/traveller_report.csv', 'Date', ['Sum of Volume'])\n",
    "\n",
    "\n",
    "# # Sort into seasons for each year array using seasons function\n",
    "data_by_season = seasons_sort('Data/traveller_report.csv', 'Date', ['Sum of Volume'])\n"
   ]
  },
  {
   "cell_type": "markdown",
   "metadata": {},
   "source": [
    "### Wages Data\n",
    "\n",
    "Here I am working with the wages data, in this cell I am using a funcion I have created to add a year column to each of the wages DataFrames. Underneath is code which can be uncommented and then used to delete extra year columns in case I accidentally run this cell more than once."
   ]
  },
  {
   "cell_type": "code",
   "execution_count": null,
   "metadata": {},
   "outputs": [],
   "source": [
    "# Configuring the wages data into a format that is easier to work with\n",
    "from Functions.add_year_column import add_year_column\n",
    "\n",
    "# Adding a year column to each of the csv files using add_year_column function\n",
    "add_year_column('Data/wages_2018.csv', 'Data/wages_2018.csv', 'Year', '2018')\n",
    "add_year_column('Data/wages_2019.csv', 'Data/wages_2019.csv', 'Year', '2019')\n",
    "add_year_column('Data/wages_2020.csv', 'Data/wages_2020.csv', 'Year', '2020')\n",
    "add_year_column('Data/wages_2021.csv', 'Data/wages_2021.csv', 'Year', '2021')\n",
    "add_year_column('Data/wages_2022.csv', 'Data/wages_2022.csv', 'Year', '2022')\n",
    "\n",
    "# In case I accidentally add multiple years columns, can delete using this\n",
    "# df5 = pd.read_csv('Data/wages_2018.csv')\n",
    "# delete_columns = ['Year.1']  # Fix this line\n",
    "# df5.drop(columns=delete_columns, inplace=True)\n",
    "# df5.to_csv('Data/wages_2018.csv', index=False)"
   ]
  },
  {
   "cell_type": "markdown",
   "metadata": {},
   "source": [
    "Here I combine all of the wages DataFrames into one DataFrame."
   ]
  },
  {
   "cell_type": "code",
   "execution_count": 2,
   "metadata": {},
   "outputs": [],
   "source": [
    "# Configuring the wages data into a format that is easier to work with\n",
    "import pandas as pd\n",
    "\n",
    "# Combine all wages data together into one file\n",
    "# Create a list of file names\n",
    "file_names = ['Data/wages_2018.csv', 'Data/wages_2019.csv', 'Data/wages_2020.csv', 'Data/wages_2021.csv', 'Data/wages_2022.csv']\n",
    "\n",
    "# Initialize an empty list to store individual DataFrames\n",
    "dfs = []\n",
    "\n",
    "# Loop through the files and read them into DataFrames, then append to the list\n",
    "for file in file_names:\n",
    "    df = pd.read_csv(file)\n",
    "    dfs.append(df)\n",
    "\n",
    "# Concatenate the DataFrames vertically\n",
    "combined_df = pd.concat(dfs, ignore_index=True)\n",
    "\n",
    "# Save the combined files to a new csv file\n",
    "combined_df.to_csv('Data/wages_all.csv', index=False)\n"
   ]
  },
  {
   "cell_type": "markdown",
   "metadata": {},
   "source": [
    "Here I sort the DataFrame to only contain the jobs related to or impacted by tourism. Then I sort the wages data into a dictionary with the year as the key and an array as the value."
   ]
  },
  {
   "cell_type": "code",
   "execution_count": 1,
   "metadata": {},
   "outputs": [
    {
     "name": "stderr",
     "output_type": "stream",
     "text": [
      "C:\\Users\\Isabel Conklin\\AppData\\Local\\Temp\\ipykernel_5592\\3038778431.py:6: DtypeWarning: Columns (18) have mixed types. Specify dtype option on import or set low_memory=False.\n",
      "  wage_data = pd.read_csv('Data/wages_all.csv', encoding='ISO-8859-1')\n"
     ]
    },
    {
     "ename": "TypeError",
     "evalue": "argument of type 'method' is not iterable",
     "output_type": "error",
     "traceback": [
      "\u001b[1;31m---------------------------------------------------------------------------\u001b[0m",
      "\u001b[1;31mTypeError\u001b[0m                                 Traceback (most recent call last)",
      "\u001b[1;32mc:\\Users\\Isabel Conklin\\Documents\\ENDG 310\\Github23-24\\ENDG310-Project-1-F2023\\Project_1_Notebook.ipynb Cell 10\u001b[0m line \u001b[0;36m<cell line: 15>\u001b[1;34m()\u001b[0m\n\u001b[0;32m     <a href='vscode-notebook-cell:/c%3A/Users/Isabel%20Conklin/Documents/ENDG%20310/Github23-24/ENDG310-Project-1-F2023/Project_1_Notebook.ipynb#X31sZmlsZQ%3D%3D?line=11'>12</a>\u001b[0m filtered_wage_data \u001b[39m=\u001b[39m filter_jobs_impacted_by_tourism(wage_data, tourism_keywords)\n\u001b[0;32m     <a href='vscode-notebook-cell:/c%3A/Users/Isabel%20Conklin/Documents/ENDG%20310/Github23-24/ENDG310-Project-1-F2023/Project_1_Notebook.ipynb#X31sZmlsZQ%3D%3D?line=13'>14</a>\u001b[0m \u001b[39m# Sort into arrays for each year using make_year_arrays function\u001b[39;00m\n\u001b[1;32m---> <a href='vscode-notebook-cell:/c%3A/Users/Isabel%20Conklin/Documents/ENDG%20310/Github23-24/ENDG310-Project-1-F2023/Project_1_Notebook.ipynb#X31sZmlsZQ%3D%3D?line=14'>15</a>\u001b[0m wages_by_year \u001b[39m=\u001b[39m make_year_arrays(filtered_wage_data, \u001b[39m'\u001b[39;49m\u001b[39mYear\u001b[39;49m\u001b[39m'\u001b[39;49m, [\u001b[39m'\u001b[39;49m\u001b[39mAverage_Wage_Salaire_Moyen\u001b[39;49m\u001b[39m'\u001b[39;49m])\n",
      "File \u001b[1;32mc:\\Users\\Isabel Conklin\\Documents\\ENDG 310\\Github23-24\\ENDG310-Project-1-F2023\\Functions\\year_arrays.py:19\u001b[0m, in \u001b[0;36mmake_year_arrays\u001b[1;34m(file_path, date_column, data_columns)\u001b[0m\n\u001b[0;32m     16\u001b[0m data_by_year \u001b[39m=\u001b[39m {}\n\u001b[0;32m     18\u001b[0m \u001b[39m# Read the CSV file\u001b[39;00m\n\u001b[1;32m---> 19\u001b[0m df \u001b[39m=\u001b[39m pd\u001b[39m.\u001b[39;49mread_csv(file_path, encoding\u001b[39m=\u001b[39;49m\u001b[39m'\u001b[39;49m\u001b[39mISO-8859-1\u001b[39;49m\u001b[39m'\u001b[39;49m)\n\u001b[0;32m     21\u001b[0m \u001b[39mif\u001b[39;00m date_column \u001b[39m==\u001b[39m \u001b[39m'\u001b[39m\u001b[39mDate\u001b[39m\u001b[39m'\u001b[39m:\n\u001b[0;32m     22\u001b[0m     \u001b[39m# Convert the date column to a datetime object\u001b[39;00m\n\u001b[0;32m     23\u001b[0m     df[date_column] \u001b[39m=\u001b[39m pd\u001b[39m.\u001b[39mto_datetime(df[date_column])\n",
      "File \u001b[1;32mc:\\Python\\Anaconda\\lib\\site-packages\\pandas\\util\\_decorators.py:311\u001b[0m, in \u001b[0;36mdeprecate_nonkeyword_arguments.<locals>.decorate.<locals>.wrapper\u001b[1;34m(*args, **kwargs)\u001b[0m\n\u001b[0;32m    305\u001b[0m \u001b[39mif\u001b[39;00m \u001b[39mlen\u001b[39m(args) \u001b[39m>\u001b[39m num_allow_args:\n\u001b[0;32m    306\u001b[0m     warnings\u001b[39m.\u001b[39mwarn(\n\u001b[0;32m    307\u001b[0m         msg\u001b[39m.\u001b[39mformat(arguments\u001b[39m=\u001b[39marguments),\n\u001b[0;32m    308\u001b[0m         \u001b[39mFutureWarning\u001b[39;00m,\n\u001b[0;32m    309\u001b[0m         stacklevel\u001b[39m=\u001b[39mstacklevel,\n\u001b[0;32m    310\u001b[0m     )\n\u001b[1;32m--> 311\u001b[0m \u001b[39mreturn\u001b[39;00m func(\u001b[39m*\u001b[39margs, \u001b[39m*\u001b[39m\u001b[39m*\u001b[39mkwargs)\n",
      "File \u001b[1;32mc:\\Python\\Anaconda\\lib\\site-packages\\pandas\\io\\parsers\\readers.py:680\u001b[0m, in \u001b[0;36mread_csv\u001b[1;34m(filepath_or_buffer, sep, delimiter, header, names, index_col, usecols, squeeze, prefix, mangle_dupe_cols, dtype, engine, converters, true_values, false_values, skipinitialspace, skiprows, skipfooter, nrows, na_values, keep_default_na, na_filter, verbose, skip_blank_lines, parse_dates, infer_datetime_format, keep_date_col, date_parser, dayfirst, cache_dates, iterator, chunksize, compression, thousands, decimal, lineterminator, quotechar, quoting, doublequote, escapechar, comment, encoding, encoding_errors, dialect, error_bad_lines, warn_bad_lines, on_bad_lines, delim_whitespace, low_memory, memory_map, float_precision, storage_options)\u001b[0m\n\u001b[0;32m    665\u001b[0m kwds_defaults \u001b[39m=\u001b[39m _refine_defaults_read(\n\u001b[0;32m    666\u001b[0m     dialect,\n\u001b[0;32m    667\u001b[0m     delimiter,\n\u001b[1;32m   (...)\u001b[0m\n\u001b[0;32m    676\u001b[0m     defaults\u001b[39m=\u001b[39m{\u001b[39m\"\u001b[39m\u001b[39mdelimiter\u001b[39m\u001b[39m\"\u001b[39m: \u001b[39m\"\u001b[39m\u001b[39m,\u001b[39m\u001b[39m\"\u001b[39m},\n\u001b[0;32m    677\u001b[0m )\n\u001b[0;32m    678\u001b[0m kwds\u001b[39m.\u001b[39mupdate(kwds_defaults)\n\u001b[1;32m--> 680\u001b[0m \u001b[39mreturn\u001b[39;00m _read(filepath_or_buffer, kwds)\n",
      "File \u001b[1;32mc:\\Python\\Anaconda\\lib\\site-packages\\pandas\\io\\parsers\\readers.py:575\u001b[0m, in \u001b[0;36m_read\u001b[1;34m(filepath_or_buffer, kwds)\u001b[0m\n\u001b[0;32m    572\u001b[0m _validate_names(kwds\u001b[39m.\u001b[39mget(\u001b[39m\"\u001b[39m\u001b[39mnames\u001b[39m\u001b[39m\"\u001b[39m, \u001b[39mNone\u001b[39;00m))\n\u001b[0;32m    574\u001b[0m \u001b[39m# Create the parser.\u001b[39;00m\n\u001b[1;32m--> 575\u001b[0m parser \u001b[39m=\u001b[39m TextFileReader(filepath_or_buffer, \u001b[39m*\u001b[39m\u001b[39m*\u001b[39mkwds)\n\u001b[0;32m    577\u001b[0m \u001b[39mif\u001b[39;00m chunksize \u001b[39mor\u001b[39;00m iterator:\n\u001b[0;32m    578\u001b[0m     \u001b[39mreturn\u001b[39;00m parser\n",
      "File \u001b[1;32mc:\\Python\\Anaconda\\lib\\site-packages\\pandas\\io\\parsers\\readers.py:933\u001b[0m, in \u001b[0;36mTextFileReader.__init__\u001b[1;34m(self, f, engine, **kwds)\u001b[0m\n\u001b[0;32m    930\u001b[0m     \u001b[39mself\u001b[39m\u001b[39m.\u001b[39moptions[\u001b[39m\"\u001b[39m\u001b[39mhas_index_names\u001b[39m\u001b[39m\"\u001b[39m] \u001b[39m=\u001b[39m kwds[\u001b[39m\"\u001b[39m\u001b[39mhas_index_names\u001b[39m\u001b[39m\"\u001b[39m]\n\u001b[0;32m    932\u001b[0m \u001b[39mself\u001b[39m\u001b[39m.\u001b[39mhandles: IOHandles \u001b[39m|\u001b[39m \u001b[39mNone\u001b[39;00m \u001b[39m=\u001b[39m \u001b[39mNone\u001b[39;00m\n\u001b[1;32m--> 933\u001b[0m \u001b[39mself\u001b[39m\u001b[39m.\u001b[39m_engine \u001b[39m=\u001b[39m \u001b[39mself\u001b[39;49m\u001b[39m.\u001b[39;49m_make_engine(f, \u001b[39mself\u001b[39;49m\u001b[39m.\u001b[39;49mengine)\n",
      "File \u001b[1;32mc:\\Python\\Anaconda\\lib\\site-packages\\pandas\\io\\parsers\\readers.py:1217\u001b[0m, in \u001b[0;36mTextFileReader._make_engine\u001b[1;34m(self, f, engine)\u001b[0m\n\u001b[0;32m   1213\u001b[0m     mode \u001b[39m=\u001b[39m \u001b[39m\"\u001b[39m\u001b[39mrb\u001b[39m\u001b[39m\"\u001b[39m\n\u001b[0;32m   1214\u001b[0m \u001b[39m# error: No overload variant of \"get_handle\" matches argument types\u001b[39;00m\n\u001b[0;32m   1215\u001b[0m \u001b[39m# \"Union[str, PathLike[str], ReadCsvBuffer[bytes], ReadCsvBuffer[str]]\"\u001b[39;00m\n\u001b[0;32m   1216\u001b[0m \u001b[39m# , \"str\", \"bool\", \"Any\", \"Any\", \"Any\", \"Any\", \"Any\"\u001b[39;00m\n\u001b[1;32m-> 1217\u001b[0m \u001b[39mself\u001b[39m\u001b[39m.\u001b[39mhandles \u001b[39m=\u001b[39m get_handle(  \u001b[39m# type: ignore[call-overload]\u001b[39;49;00m\n\u001b[0;32m   1218\u001b[0m     f,\n\u001b[0;32m   1219\u001b[0m     mode,\n\u001b[0;32m   1220\u001b[0m     encoding\u001b[39m=\u001b[39;49m\u001b[39mself\u001b[39;49m\u001b[39m.\u001b[39;49moptions\u001b[39m.\u001b[39;49mget(\u001b[39m\"\u001b[39;49m\u001b[39mencoding\u001b[39;49m\u001b[39m\"\u001b[39;49m, \u001b[39mNone\u001b[39;49;00m),\n\u001b[0;32m   1221\u001b[0m     compression\u001b[39m=\u001b[39;49m\u001b[39mself\u001b[39;49m\u001b[39m.\u001b[39;49moptions\u001b[39m.\u001b[39;49mget(\u001b[39m\"\u001b[39;49m\u001b[39mcompression\u001b[39;49m\u001b[39m\"\u001b[39;49m, \u001b[39mNone\u001b[39;49;00m),\n\u001b[0;32m   1222\u001b[0m     memory_map\u001b[39m=\u001b[39;49m\u001b[39mself\u001b[39;49m\u001b[39m.\u001b[39;49moptions\u001b[39m.\u001b[39;49mget(\u001b[39m\"\u001b[39;49m\u001b[39mmemory_map\u001b[39;49m\u001b[39m\"\u001b[39;49m, \u001b[39mFalse\u001b[39;49;00m),\n\u001b[0;32m   1223\u001b[0m     is_text\u001b[39m=\u001b[39;49mis_text,\n\u001b[0;32m   1224\u001b[0m     errors\u001b[39m=\u001b[39;49m\u001b[39mself\u001b[39;49m\u001b[39m.\u001b[39;49moptions\u001b[39m.\u001b[39;49mget(\u001b[39m\"\u001b[39;49m\u001b[39mencoding_errors\u001b[39;49m\u001b[39m\"\u001b[39;49m, \u001b[39m\"\u001b[39;49m\u001b[39mstrict\u001b[39;49m\u001b[39m\"\u001b[39;49m),\n\u001b[0;32m   1225\u001b[0m     storage_options\u001b[39m=\u001b[39;49m\u001b[39mself\u001b[39;49m\u001b[39m.\u001b[39;49moptions\u001b[39m.\u001b[39;49mget(\u001b[39m\"\u001b[39;49m\u001b[39mstorage_options\u001b[39;49m\u001b[39m\"\u001b[39;49m, \u001b[39mNone\u001b[39;49;00m),\n\u001b[0;32m   1226\u001b[0m )\n\u001b[0;32m   1227\u001b[0m \u001b[39massert\u001b[39;00m \u001b[39mself\u001b[39m\u001b[39m.\u001b[39mhandles \u001b[39mis\u001b[39;00m \u001b[39mnot\u001b[39;00m \u001b[39mNone\u001b[39;00m\n\u001b[0;32m   1228\u001b[0m f \u001b[39m=\u001b[39m \u001b[39mself\u001b[39m\u001b[39m.\u001b[39mhandles\u001b[39m.\u001b[39mhandle\n",
      "File \u001b[1;32mc:\\Python\\Anaconda\\lib\\site-packages\\pandas\\io\\common.py:661\u001b[0m, in \u001b[0;36mget_handle\u001b[1;34m(path_or_buf, mode, encoding, compression, memory_map, is_text, errors, storage_options)\u001b[0m\n\u001b[0;32m    658\u001b[0m encoding \u001b[39m=\u001b[39m encoding \u001b[39mor\u001b[39;00m \u001b[39m\"\u001b[39m\u001b[39mutf-8\u001b[39m\u001b[39m\"\u001b[39m\n\u001b[0;32m    660\u001b[0m \u001b[39m# read_csv does not know whether the buffer is opened in binary/text mode\u001b[39;00m\n\u001b[1;32m--> 661\u001b[0m \u001b[39mif\u001b[39;00m _is_binary_mode(path_or_buf, mode) \u001b[39mand\u001b[39;00m \u001b[39m\"\u001b[39m\u001b[39mb\u001b[39m\u001b[39m\"\u001b[39m \u001b[39mnot\u001b[39;00m \u001b[39min\u001b[39;00m mode:\n\u001b[0;32m    662\u001b[0m     mode \u001b[39m+\u001b[39m\u001b[39m=\u001b[39m \u001b[39m\"\u001b[39m\u001b[39mb\u001b[39m\u001b[39m\"\u001b[39m\n\u001b[0;32m    664\u001b[0m \u001b[39m# validate encoding and errors\u001b[39;00m\n",
      "File \u001b[1;32mc:\\Python\\Anaconda\\lib\\site-packages\\pandas\\io\\common.py:1128\u001b[0m, in \u001b[0;36m_is_binary_mode\u001b[1;34m(handle, mode)\u001b[0m\n\u001b[0;32m   1125\u001b[0m \u001b[39mif\u001b[39;00m \u001b[39missubclass\u001b[39m(\u001b[39mtype\u001b[39m(handle), text_classes):\n\u001b[0;32m   1126\u001b[0m     \u001b[39mreturn\u001b[39;00m \u001b[39mFalse\u001b[39;00m\n\u001b[1;32m-> 1128\u001b[0m \u001b[39mreturn\u001b[39;00m \u001b[39misinstance\u001b[39m(handle, _get_binary_io_classes()) \u001b[39mor\u001b[39;00m \u001b[39m\"\u001b[39;49m\u001b[39mb\u001b[39;49m\u001b[39m\"\u001b[39;49m \u001b[39min\u001b[39;49;00m \u001b[39mgetattr\u001b[39;49m(\n\u001b[0;32m   1129\u001b[0m     handle, \u001b[39m\"\u001b[39;49m\u001b[39mmode\u001b[39;49m\u001b[39m\"\u001b[39;49m, mode\n\u001b[0;32m   1130\u001b[0m )\n",
      "\u001b[1;31mTypeError\u001b[0m: argument of type 'method' is not iterable"
     ]
    }
   ],
   "source": [
    "import pandas as pd\n",
    "from Functions.filtered_data import filter_jobs_impacted_by_tourism\n",
    "from Functions.year_arrays import make_year_arrays\n",
    "\n",
    "# Read the CSV file into a DataFrame\n",
    "wage_data = pd.read_csv('Data/wages_all.csv', encoding='ISO-8859-1')\n",
    "\n",
    "# Define a list of tourism-related keywords\n",
    "tourism_keywords = ['retail', 'tour', 'restaurant', 'hotel', 'hospitality', 'cleaner', 'travel', 'pilot', 'flight', 'service']\n",
    "\n",
    "# Filter out unwanted professions using filter_jobs_impacted_by_tourism function\n",
    "filtered_wage_data = filter_jobs_impacted_by_tourism(wage_data, tourism_keywords)\n",
    "\n",
    "# Sort into arrays for each year using make_year_arrays function\n",
    "wages_by_year = make_year_arrays(filtered_wage_data, 'Year', ['Average_Wage_Salaire_Moyen'])\n",
    "\n",
    "\n",
    "# # Sorting wages data some more\n",
    "# from Functions.filtered_data import filter_jobs_impacted_by_tourism\n",
    "# from Functions.year_arrays import make_year_arrays\n",
    "\n",
    "# # Filter out unwanted professions using filter_jobs_impacted_by_tourism function\n",
    "# filter_jobs_impacted_by_tourism('Data/wages_all.csv', ['retail', 'tour', 'restaurant', 'hotel', 'hospitality', 'cleaners', 'travel', 'pilot', 'flight', 'service'])\n",
    "\n",
    "# # Sort into arrays for each year using make_year_arrays function\n",
    "# wages_by_year = make_year_arrays('Data/wages_all.csv', 'Year', ['Average_Wage_Salaire_Moyen'])"
   ]
  },
  {
   "cell_type": "markdown",
   "metadata": {},
   "source": [
    "## Creating the Graphs\n",
    "\n",
    "Now that I have formatted the data in the way that I prefer to work with it I am ready to begin making my graphs. I am going to make four or five graphs, one showing the amount of people who enter Canada every year, one showing people entering Canada seasonally, one showing the mean wages in industries impacted by tourism, one plotting both together (tourism & wages), and some showing tourism by region (interactivity)."
   ]
  },
  {
   "cell_type": "markdown",
   "metadata": {},
   "source": [
    "### Number of People Entering Canada by Year (2018-2023)"
   ]
  },
  {
   "cell_type": "code",
   "execution_count": 2,
   "metadata": {},
   "outputs": [
    {
     "data": {
      "image/png": "[encoded data removed]",
      "text/plain": [
       "<Figure size 720x432 with 1 Axes>"
      ]
     },
     "metadata": {
      "needs_background": "light"
     },
     "output_type": "display_data"
    }
   ],
   "source": [
    "# Graph showing how many people entered the country annually\n",
    "from Functions.create_bar_chart import create_bar_chart\n",
    "\n",
    "# Call the function to plot the graph\n",
    "create_bar_chart(data_by_year)"
   ]
  },
  {
   "cell_type": "markdown",
   "metadata": {},
   "source": [
    "### Number of People Visiting Canada Seasonally"
   ]
  },
  {
   "cell_type": "code",
   "execution_count": 2,
   "metadata": {},
   "outputs": [
    {
     "data": {
      "image/png": "[encoded data removed]",
      "text/plain": [
       "<Figure size 432x288 with 1 Axes>"
      ]
     },
     "metadata": {},
     "output_type": "display_data"
    }
   ],
   "source": [
    "# Code for people entering Canada seasonally\n",
    "from Functions.create_seasonal_pie_chart import create_seasonal_pie_chart\n",
    "\n",
    "# Call the function to plot the graph\n",
    "create_seasonal_pie_chart(data_by_season)"
   ]
  },
  {
   "cell_type": "markdown",
   "metadata": {},
   "source": [
    "### Average Wages in Industries Impacted by Tourism"
   ]
  },
  {
   "cell_type": "code",
   "execution_count": null,
   "metadata": {},
   "outputs": [],
   "source": [
    "# Code for line graph showing average wages by year\n",
    "from Functions.create_wages_line_graph import create_wages_line_graph\n",
    "\n",
    "# Call the function to plot the graph\n",
    "create_wages_line_graph(wages_by_year)\n"
   ]
  }
 ],
 "metadata": {
  "kernelspec": {
   "display_name": "base",
   "language": "python",
   "name": "python3"
  },
  "language_info": {
   "codemirror_mode": {
    "name": "ipython",
    "version": 3
   },
   "file_extension": ".py",
   "mimetype": "text/x-python",
   "name": "python",
   "nbconvert_exporter": "python",
   "pygments_lexer": "ipython3",
   "version": "3.9.12"
  },
  "orig_nbformat": 4
 },
 "nbformat": 4,
 "nbformat_minor": 2
}
