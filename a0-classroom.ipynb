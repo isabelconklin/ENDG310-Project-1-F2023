{
  "cells": [
    {
      "cell_type": "markdown",
      "metadata": {
        "id": "gEf9jaeSu8r1"
      },
      "source": [
        "Author: YOUR NAME"
      ]
    },
    {
      "cell_type": "markdown",
      "metadata": {
        "id": "rerdyuV1u8r_"
      },
      "source": [
        "On your local computer"
      ]
    },
    {
      "cell_type": "code",
      "execution_count": null,
      "metadata": {
        "id": "4SG3hLETu8sB",
        "outputId": "d0a511da-4736-44b1-d95a-ef113ff65885"
      },
      "outputs": [
        {
          "name": "stdout",
          "output_type": "stream",
          "text": [
            "OS information: Windows-10-10.0.19045-SP0\n",
            "Python version: 3.11.11 | packaged by Anaconda, Inc. | (main, Dec 11 2024, 16:34:19) [MSC v.1929 64 bit (AMD64)]\n",
            "PyTorch version: 2.5.1+cpu\n",
            "Fastai version: 2.7.18\n",
            "Fastbook version: 0.0.29\n",
            "OpenCV version: 4.10.0\n"
          ]
        }
      ],
      "source": [
        "# On local machine with endg411 activated: paste code to display versions here and run cell\n",
        "import platform\n",
        "print(\"OS information:\", platform.platform())\n",
        "\n",
        "import sys\n",
        "print(\"Python version:\", sys.version)\n",
        "\n",
        "import torch\n",
        "print(\"PyTorch version:\", torch.__version__)\n",
        "\n",
        "import fastai\n",
        "print(\"Fastai version:\", fastai.__version__)\n",
        "\n",
        "import fastbook\n",
        "print(\"Fastbook version:\", fastbook.__version__)\n",
        "\n",
        "import cv2\n",
        "print(\"OpenCV version:\", cv2.__version__)\n"
      ]
    },
    {
      "cell_type": "code",
      "execution_count": null,
      "metadata": {
        "id": "W7YRLoKau8sG",
        "outputId": "a17a41dc-1984-4d0e-f3a2-00b9e705d7bf"
      },
      "outputs": [
        {
          "name": "stdout",
          "output_type": "stream",
          "text": [
            "Python version: 3.11.9 | packaged by Anaconda, Inc. | (main, Apr 19 2024, 16:40:41) [MSC v.1916 64 bit (AMD64)]\n",
            "pandas version: 2.2.2\n",
            "matplotlib version: 3.9.2\n",
            "NumPy version: 1.26.4\n",
            "Jupyter lab version: 4.2.5\n",
            "scikit-learn version: 1.5.0\n",
            "PyTorch version: 2.3.0+cpu\n",
            "ISLP version: 0.4.0\n"
          ]
        }
      ],
      "source": [
        "# On local machine with islp activated: paste code to display versions here and run cell\n",
        "import sys\n",
        "print(\"Python version:\", sys.version)\n",
        "\n",
        "import pandas as pd\n",
        "print(\"pandas version:\", pd.__version__)\n",
        "\n",
        "import matplotlib\n",
        "print(\"matplotlib version:\", matplotlib.__version__)\n",
        "\n",
        "import numpy as np\n",
        "print(\"NumPy version:\", np.__version__)\n",
        "\n",
        "import jupyterlab\n",
        "print(\"Jupyter lab version:\", jupyterlab.__version__)\n",
        "\n",
        "import sklearn\n",
        "print(\"scikit-learn version:\", sklearn.__version__)\n",
        "\n",
        "import torch\n",
        "print(\"PyTorch version:\", torch.__version__)\n",
        "\n",
        "import ISLP\n",
        "print(\"ISLP version:\", ISLP.__version__)\n"
      ]
    },
    {
      "cell_type": "markdown",
      "metadata": {
        "id": "uy1smfrFu8sH"
      },
      "source": [
        "On google colab"
      ]
    },
    {
      "cell_type": "code",
      "execution_count": 3,
      "metadata": {
        "id": "R8AjhURDu8sH"
      },
      "outputs": [],
      "source": [
        "# On colab: Install fastbook, fastai, and dependencies\n",
        "!pip install -Uqq fastbook"
      ]
    },
    {
      "cell_type": "code",
      "execution_count": 4,
      "metadata": {
        "id": "fITHVd6Hu8sI",
        "outputId": "5cc730a9-27fe-4f8a-938f-db948a7e856d",
        "colab": {
          "base_uri": "https://localhost:8080/"
        }
      },
      "outputs": [
        {
          "output_type": "stream",
          "name": "stdout",
          "text": [
            "OS information: Linux-6.1.85+-x86_64-with-glibc2.35\n",
            "Python version: 3.10.12 (main, Nov  6 2024, 20:22:13) [GCC 11.4.0]\n",
            "PyTorch version: 2.5.1+cu121\n",
            "Fastai version: 2.7.18\n",
            "Fastbook version: 0.0.29\n"
          ]
        }
      ],
      "source": [
        "# On colab: paste code to display versions here and run cell\n",
        "import platform\n",
        "print(\"OS information:\", platform.platform())\n",
        "\n",
        "import sys\n",
        "print(\"Python version:\", sys.version)\n",
        "\n",
        "import torch\n",
        "print(\"PyTorch version:\", torch.__version__)\n",
        "\n",
        "import fastai\n",
        "print(\"Fastai version:\", fastai.__version__)\n",
        "\n",
        "import fastbook\n",
        "print(\"Fastbook version:\", fastbook.__version__)"
      ]
    },
    {
      "cell_type": "markdown",
      "metadata": {
        "id": "sOktp6Qmu8sI"
      },
      "source": [
        "## Reflection\n",
        "Include:\n",
        "- Something you are excited about learning in this course.\n",
        "- Potential difficulties you anticipate."
      ]
    },
    {
      "cell_type": "markdown",
      "metadata": {
        "id": "C69FEz16u8sJ"
      },
      "source": [
        "*YOUR ANSWER HERE*"
      ]
    }
  ],
  "metadata": {
    "kernelspec": {
      "display_name": "islp",
      "language": "python",
      "name": "python3"
    },
    "language_info": {
      "codemirror_mode": {
        "name": "ipython",
        "version": 3
      },
      "file_extension": ".py",
      "mimetype": "text/x-python",
      "name": "python",
      "nbconvert_exporter": "python",
      "pygments_lexer": "ipython3",
      "version": "3.11.9"
    },
    "colab": {
      "provenance": []
    }
  },
  "nbformat": 4,
  "nbformat_minor": 0
}